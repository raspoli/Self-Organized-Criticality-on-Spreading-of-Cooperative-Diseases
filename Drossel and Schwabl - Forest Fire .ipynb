{
 "cells": [
  {
   "cell_type": "markdown",
   "metadata": {},
   "source": [
    "# Drossel and Schwabl Self-Ornanized ciritical forest fire model"
   ]
  },
  {
   "cell_type": "code",
   "execution_count": 1,
   "metadata": {},
   "outputs": [],
   "source": [
    "import numpy as np\n",
    "import matplotlib.pyplot as plt\n",
    "from matplotlib import colors\n",
    "from matplotlib import animation\n",
    "from tempfile import TemporaryFile\n",
    "import pandas as pd\n"
   ]
  },
  {
   "cell_type": "code",
   "execution_count": 17,
   "metadata": {},
   "outputs": [],
   "source": [
    "neighbourhood = ((-1,-1), (-1,0), (-1,1), (0,-1), (0, 1), (1,-1), (1,0), (1,1))\n",
    "empty, tree, fire = 0, 1, 2\n",
    "\n",
    "\n",
    "colors_list = [(0.2,0,0), (0,0.5,0), (1,0,0), 'orange']\n",
    "cmap = colors.ListedColormap(colors_list)\n",
    "bounds = [0,1,2,3]\n",
    "norm = colors.BoundaryNorm(bounds, cmap.N)"
   ]
  },
  {
   "cell_type": "markdown",
   "metadata": {},
   "source": [
    "### Evolotion function"
   ]
  },
  {
   "cell_type": "code",
   "execution_count": 7,
   "metadata": {},
   "outputs": [],
   "source": [
    "def Fire(mat):\n",
    "    new_mat = np.zeros((length, width))\n",
    "    for row in range(1,length-1):\n",
    "        for col in range(1,width-1):\n",
    "            if mat[row,col] == empty:\n",
    "                new_mat[row,col] = np.random.choice([tree, empty],p = (p,1-p))\n",
    "            if mat[row,col] == tree:\n",
    "                new_mat[row,col] = tree\n",
    "                for dx,dy in neighbourhood:\n",
    "                    if mat[row+dy,col+dx] == fire:\n",
    "                        new_mat[row,col] = fire\n",
    "                        break\n",
    "                else:\n",
    "                    new_mat[row,col] = np.random.choice([fire, tree],p = (f,1-f))\n",
    "    return new_mat"
   ]
  },
  {
   "cell_type": "markdown",
   "metadata": {},
   "source": [
    "### Initialize parameters"
   ]
  },
  {
   "cell_type": "code",
   "execution_count": 8,
   "metadata": {},
   "outputs": [],
   "source": [
    "forest_fraction = 0.35\n",
    "p, f = 0.005, 1/70 * 0.005\n",
    "length, width = 100, 100\n",
    "\n",
    "forest = np.random.choice([tree, empty], p=(forest_fraction, 1-forest_fraction), size=(length, width))\n"
   ]
  },
  {
   "cell_type": "markdown",
   "metadata": {},
   "source": [
    "### Animation"
   ]
  },
  {
   "cell_type": "code",
   "execution_count": 9,
   "metadata": {},
   "outputs": [
    {
     "name": "stdout",
     "output_type": "stream",
     "text": [
      "Using matplotlib backend: Qt5Agg\n"
     ]
    }
   ],
   "source": [
    "%matplotlib\n",
    "fig = plt.figure(figsize=(12, 8))\n",
    "\n",
    "fig.suptitle('%i * %i Lattice'%(length,width),fontsize = 14)\n",
    "\n",
    "ax = fig.add_subplot(111)\n",
    "ax.set_axis_off()\n",
    "\n",
    "im = ax.imshow(forest, cmap=cmap, norm=norm)\n",
    "\n",
    "ax.set_title('Growth rate = %.3f & Lightning rate =%.5f'%(p,f),fontsize = 11)\n",
    "\n",
    "def animate(i):\n",
    "    im.set_data(animate.forest)\n",
    "    animate.forest = Fire(animate.forest)\n",
    "\n",
    "animate.forest = forest\n",
    "\n",
    "# Writer = animation.writers['ffmpeg']\n",
    "# writer = Writer(fps=30, bitrate=1800)\n",
    "interval = 300\n",
    "anim = animation.FuncAnimation(fig, animate, interval=interval,)\n",
    "# anim.save('lines.mp4', writer=writer)\n",
    "plt.show()"
   ]
  },
  {
   "cell_type": "markdown",
   "metadata": {},
   "source": [
    "###### counting the number of burnt trees in each forest fire, we can find the distribution of fire clusters.\n",
    "\n",
    "###### We see this distribution is a power-law"
   ]
  },
  {
   "cell_type": "markdown",
   "metadata": {},
   "source": [
    "![title](DS-FF.png)"
   ]
  },
  {
   "cell_type": "code",
   "execution_count": null,
   "metadata": {},
   "outputs": [],
   "source": []
  }
 ],
 "metadata": {
  "kernelspec": {
   "display_name": "Python 3",
   "language": "python",
   "name": "python3"
  },
  "language_info": {
   "codemirror_mode": {
    "name": "ipython",
    "version": 3
   },
   "file_extension": ".py",
   "mimetype": "text/x-python",
   "name": "python",
   "nbconvert_exporter": "python",
   "pygments_lexer": "ipython3",
   "version": "3.6.5"
  },
  "varInspector": {
   "cols": {
    "lenName": 16,
    "lenType": 16,
    "lenVar": 40
   },
   "kernels_config": {
    "python": {
     "delete_cmd_postfix": "",
     "delete_cmd_prefix": "del ",
     "library": "var_list.py",
     "varRefreshCmd": "print(var_dic_list())"
    },
    "r": {
     "delete_cmd_postfix": ") ",
     "delete_cmd_prefix": "rm(",
     "library": "var_list.r",
     "varRefreshCmd": "cat(var_dic_list()) "
    }
   },
   "types_to_exclude": [
    "module",
    "function",
    "builtin_function_or_method",
    "instance",
    "_Feature"
   ],
   "window_display": false
  }
 },
 "nbformat": 4,
 "nbformat_minor": 2
}
