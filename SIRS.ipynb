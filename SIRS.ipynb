{
 "cells": [
  {
   "cell_type": "markdown",
   "metadata": {},
   "source": [
    "# SIRS model using SOC approche"
   ]
  },
  {
   "cell_type": "code",
   "execution_count": 6,
   "metadata": {},
   "outputs": [],
   "source": [
    "import numpy as np\n",
    "import sys\n",
    "from matplotlib import pyplot as plt\n",
    "from matplotlib import colors\n",
    "from matplotlib import animation\n",
    "from tempfile import TemporaryFile\n",
    "import pandas as pd\n",
    "from tqdm import tqdm"
   ]
  },
  {
   "cell_type": "code",
   "execution_count": 7,
   "metadata": {},
   "outputs": [],
   "source": [
    "neighbourhood = ((-1,-1), (-1,0), (-1,1), (0,-1), (0, 1), (1,-1), (1,0), (1,1))\n",
    "S, A, B, AB, a, b, Ab, aB, ab = 0, 1, 2, 3, 4, 5, 6, 7, 8\n",
    "\n",
    "sicks = []\n",
    "immune = []\n",
    "\n",
    "colors_list = ['w','r','y','orange','c','g','b','m','k']\n",
    "cmap = colors.ListedColormap(colors_list)\n",
    "bounds = [0,1,2,3,4,5,6,7,8,9]\n",
    "norm = colors.BoundaryNorm(bounds, cmap.N)"
   ]
  },
  {
   "cell_type": "code",
   "execution_count": 8,
   "metadata": {},
   "outputs": [],
   "source": [
    "## make list of all lattice index\n",
    "def make_site_list(length,width):\n",
    "    s = []\n",
    "    for i in range(0,length):\n",
    "        for j in range(0,width):\n",
    "            s.append([i,j])\n",
    "            \n",
    "    return s"
   ]
  },
  {
   "cell_type": "code",
   "execution_count": 2,
   "metadata": {},
   "outputs": [],
   "source": [
    "### return immune indivisuals to susceptible indivisuals\n",
    "\n",
    "def health():\n",
    "    \n",
    "    for ind in immune:\n",
    "        if forest[ind[0],ind[1]] == ab:\n",
    "            d = np.random.choice([a, b], p=(0.5, 0.5))\n",
    "            if np.random.random() < r:\n",
    "                forest[ind[0],ind[1]] = d\n",
    "                    \n",
    "        elif forest[ind[0],ind[1]] == a or forest[ind[0],ind[1]] == b:\n",
    "            if np.random.random() < r:\n",
    "                forest[ind[0],ind[1]] = S\n",
    "                immune.remove(ind)"
   ]
  },
  {
   "cell_type": "code",
   "execution_count": 11,
   "metadata": {},
   "outputs": [],
   "source": [
    "### making susceptible indivisual sick with A or B or AB\n",
    "\n",
    "def lightning(susceptibles):\n",
    "    \n",
    "    l = len(susceptibles)\n",
    "    \n",
    "    seed = susceptibles[np.random.randint(0,l)]\n",
    "    forest[seed[0],seed[1]] = A\n",
    "    sicks.append(seed)\n",
    "    \n",
    "    seed = susceptibles[np.random.randint(0,l)]\n",
    "    forest[seed[0],seed[1]] = B\n",
    "    sicks.append(seed)\n",
    "    "
   ]
  },
  {
   "cell_type": "markdown",
   "metadata": {},
   "source": [
    "### Evolution function"
   ]
  },
  {
   "cell_type": "code",
   "execution_count": 12,
   "metadata": {},
   "outputs": [],
   "source": [
    "def evolve(sites):\n",
    "    for sick in sicks:\n",
    "        ############### AB\n",
    "        if forest[sick[0],sick[1]] == AB:\n",
    "            \n",
    "            if np.random.random() < h:\n",
    "                c = np.random.choice([Ab,aB],p=(0.5,0.5))\n",
    "                forest[sick[0],sick[1]] = c\n",
    "            \n",
    "            for dx,dy in neighbourhood:\n",
    "                neig = [(sick[0]+dy)%length,(sick[1]+dx)%width]\n",
    "                \n",
    "                if (forest[neig[0],neig[1]] == AB or forest[neig[0],neig[1]] == Ab\n",
    "                    or forest[neig[0],neig[1]] == aB or forest[neig[0],neig[1]] == ab):\n",
    "                    \n",
    "                    continue\n",
    "                    \n",
    "                elif forest[neig[0],neig[1]] == A or forest[neig[0],neig[1]] == B:\n",
    "                    if np.random.random() < m_outbreak:\n",
    "                        forest[neig[0],neig[1]] = AB\n",
    "                    continue\n",
    "                    \n",
    "                elif forest[neig[0],neig[1]] == a:\n",
    "                    if np.random.random() < m_outbreak:\n",
    "                        forest[neig[0],neig[1]] = aB\n",
    "                        immune.remove([neig[0],neig[1]])\n",
    "                        sicks.append([neig[0],neig[1]])\n",
    "                    continue\n",
    "                        \n",
    "                elif forest[neig[0],neig[1]] == b:\n",
    "                    if np.random.random() < m_outbreak:\n",
    "                        forest[neig[0],neig[1]] = Ab\n",
    "                        immune.remove([neig[0],neig[1]])\n",
    "                        sicks.append([neig[0],neig[1]])\n",
    "                    continue\n",
    "                \n",
    "                elif forest[neig[0],neig[1]] == S:\n",
    "                    if np.random.random() < outbreak:\n",
    "                        c = np.random.choice([A,B],p=(0.5,0.5))\n",
    "                        forest[neig[0],neig[1]] = c\n",
    "                        \n",
    "                        sicks.append([neig[0],neig[1]])\n",
    "                    continue\n",
    "                    \n",
    "                    \n",
    "        ############### Ab or A\n",
    "        if (forest[sick[0],sick[1]] == Ab or forest[sick[0],sick[1]] == A):\n",
    "            \n",
    "            if np.random.random() < h:\n",
    "                sicks.remove([sick[0],sick[1]])\n",
    "                immune.append([sick[0],sick[1]])\n",
    "                \n",
    "                if forest[sick[0],sick[1]] == Ab:\n",
    "                    forest[sick[0],sick[1]] = ab\n",
    "                elif forest[sick[0],sick[1]] == A:\n",
    "                    forest[sick[0],sick[1]] = a\n",
    "                    \n",
    "                \n",
    "            \n",
    "            for dx,dy in neighbourhood:\n",
    "                neig = [(sick[0]+dy)%length,(sick[1]+dx)%width]\n",
    "                \n",
    "                if (forest[neig[0],neig[1]] == AB or forest[neig[0],neig[1]] == Ab\n",
    "                    or forest[neig[0],neig[1]] == aB or forest[neig[0],neig[1]] == ab\n",
    "                    or forest[neig[0],neig[1]] == A or forest[neig[0],neig[1]] == a):\n",
    "                    continue\n",
    "                        \n",
    "                elif forest[neig[0],neig[1]] == B:\n",
    "                    if np.random.random() < m_outbreak:\n",
    "                        forest[neig[0],neig[1]] = AB\n",
    "                    continue\n",
    "                    \n",
    "                elif forest[neig[0],neig[1]] == b:\n",
    "                    if np.random.random() < m_outbreak:\n",
    "                        forest[neig[0],neig[1]] = Ab\n",
    "                        immune.remove([neig[0],neig[1]])\n",
    "                        sicks.append([neig[0],neig[1]])\n",
    "                    continue\n",
    "                    \n",
    "                elif forest[neig[0],neig[1]] == S:\n",
    "                    if np.random.random() < outbreak:\n",
    "                        forest[neig[0],neig[1]] = A\n",
    "                        \n",
    "                        sicks.append([neig[0],neig[1]]) \n",
    "                    continue\n",
    "    \n",
    "        ############### aB or B\n",
    "        if (forest[sick[0],sick[1]] == aB or forest[sick[0],sick[1]] == B):\n",
    "\n",
    "            if np.random.random() < h:\n",
    "                if forest[sick[0],sick[1]] == aB:\n",
    "                    sicks.remove([sick[0],sick[1]])\n",
    "                    immune.append([sick[0],sick[1]])\n",
    "                    forest[sick[0],sick[1]] = ab\n",
    "                \n",
    "                elif forest[sick[0],sick[1]] == B:\n",
    "                    sicks.remove([sick[0],sick[1]])\n",
    "                    immune.append([sick[0],sick[1]])\n",
    "                    forest[sick[0],sick[1]] = b\n",
    "                    \n",
    "\n",
    "            \n",
    "            for dx,dy in neighbourhood:\n",
    "                neig = [(sick[0]+dy)%length,(sick[1]+dx)%width]\n",
    "                \n",
    "                if (forest[neig[0],neig[1]] == AB or forest[neig[0],neig[1]] == Ab\n",
    "                    or forest[neig[0],neig[1]] == aB or forest[neig[0],neig[1]] == ab\n",
    "                    or forest[neig[0],neig[1]] == B or forest[neig[0],neig[1]] == b):\n",
    "                    continue\n",
    "                        \n",
    "                elif forest[neig[0],neig[1]] == A:\n",
    "                    if np.random.random() < m_outbreak:\n",
    "                        forest[neig[0],neig[1]] = AB\n",
    "                    continue\n",
    "                    \n",
    "                elif forest[neig[0],neig[1]] == a:\n",
    "                    if np.random.random() < m_outbreak:\n",
    "                        forest[neig[0],neig[1]] = aB\n",
    "                        \n",
    "                        immune.remove([neig[0],neig[1]])\n",
    "                        sicks.append([neig[0],neig[1]])\n",
    "                    continue\n",
    "                    \n",
    "                elif forest[neig[0],neig[1]] == S:\n",
    "                    if np.random.random() < outbreak:\n",
    "                        forest[neig[0],neig[1]] = B\n",
    "                        \n",
    "                        sicks.append([neig[0],neig[1]])\n",
    "                    continue    \n",
    "    health()\n",
    "    \n",
    "    ### lightning in the forest by the rate of \"f\"\n",
    "    if np.random.random() < f:\n",
    "        susceptibles = sites.copy()\n",
    "        for s in sicks:\n",
    "            susceptibles.remove(s)\n",
    "        for i in immune:\n",
    "            susceptibles.remove(i)\n",
    "        lightning(susceptibles)\n",
    "        \n",
    "        "
   ]
  },
  {
   "cell_type": "markdown",
   "metadata": {},
   "source": [
    "## Initialize parameters"
   ]
  },
  {
   "cell_type": "code",
   "execution_count": 20,
   "metadata": {},
   "outputs": [],
   "source": [
    "outbreak, m_outbreak, h = 0.28, 0.95, 0.68\n",
    "r, f = 0.06,  0.005\n",
    "\n",
    "length, width = 100, 100\n",
    "\n",
    "sicks = []\n",
    "immune = []\n",
    "sites = make_site_list(length,width)\n",
    "\n",
    "forest = np.zeros((length,width))\n",
    "lightning(sites)\n"
   ]
  },
  {
   "cell_type": "code",
   "execution_count": 22,
   "metadata": {
    "scrolled": true
   },
   "outputs": [
    {
     "name": "stdout",
     "output_type": "stream",
     "text": [
      "Using matplotlib backend: Qt5Agg\n"
     ]
    },
    {
     "name": "stderr",
     "output_type": "stream",
     "text": [
      "100%|██████████████████████████████████████████████████████████████████████████████████| 10/10 [00:00<00:00, 32.34it/s]\n"
     ]
    }
   ],
   "source": [
    "%matplotlib\n",
    "\n",
    "fig = plt.figure(figsize=(12, 8),facecolor='gray');\n",
    "\n",
    "ims = [];\n",
    "\n",
    "for _ in tqdm(range(10)):\n",
    "    evolve(sites);\n",
    "    im = plt.imshow(forest, animated=True,cmap=cmap,norm=norm, interpolation='none');\n",
    "    ims.append([im]);\n",
    "\n",
    "ani = animation.ArtistAnimation(fig, ims, interval=50, blit=True);\n",
    "\n",
    "plt.axis('off')\n",
    "\n",
    "# ani.save('SIRS,%i.mp4'%length);\n",
    "\n",
    "plt.show();"
   ]
  },
  {
   "cell_type": "markdown",
   "metadata": {},
   "source": [
    "###### We have two Cooperative Diseases in the lattice, so we can have 9 states for each site in the lattice; S: white, A: red, B: yellow,           AB: orange, a: cyan, b: green, Ab: blue, aB: magenta, ab: black\n",
    "\n",
    "###### A, B are our diseases and (A, B, AB, Ab, aB) are sick individuals, also (a, b, ab) are immune individuals"
   ]
  },
  {
   "cell_type": "markdown",
   "metadata": {},
   "source": [
    "<video controls src=\"1.mp4\" />"
   ]
  },
  {
   "cell_type": "code",
   "execution_count": null,
   "metadata": {},
   "outputs": [],
   "source": []
  }
 ],
 "metadata": {
  "kernelspec": {
   "display_name": "Python 3",
   "language": "python",
   "name": "python3"
  },
  "language_info": {
   "codemirror_mode": {
    "name": "ipython",
    "version": 3
   },
   "file_extension": ".py",
   "mimetype": "text/x-python",
   "name": "python",
   "nbconvert_exporter": "python",
   "pygments_lexer": "ipython3",
   "version": "3.6.5"
  },
  "varInspector": {
   "cols": {
    "lenName": 16,
    "lenType": 16,
    "lenVar": 40
   },
   "kernels_config": {
    "python": {
     "delete_cmd_postfix": "",
     "delete_cmd_prefix": "del ",
     "library": "var_list.py",
     "varRefreshCmd": "print(var_dic_list())"
    },
    "r": {
     "delete_cmd_postfix": ") ",
     "delete_cmd_prefix": "rm(",
     "library": "var_list.r",
     "varRefreshCmd": "cat(var_dic_list()) "
    }
   },
   "types_to_exclude": [
    "module",
    "function",
    "builtin_function_or_method",
    "instance",
    "_Feature"
   ],
   "window_display": false
  }
 },
 "nbformat": 4,
 "nbformat_minor": 2
}
